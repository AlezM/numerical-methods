{
 "cells": [
  {
   "cell_type": "markdown",
   "metadata": {},
   "source": [
    "# Лабораторная работа №5.\n",
    "## Малютин Александр БПМ152.\n",
    "### Вариант 20."
   ]
  },
  {
   "cell_type": "markdown",
   "metadata": {},
   "source": [
    "## Задача 5.1. \n",
    "Дана  система уравнений  $Ax=b$. Найти решение  системы  с помощью метода Гаусса. Выполнить 10 итераций по методу Зейделя. Принимая решение,  полученное с помощью метода Гаусса  за точное, найти величину абсолютной погрешности итерационного решения.\n",
    "\n",
    "ПОРЯДОК  РЕШЕНИЯ  ЗАДАЧИ:\n",
    "1. Задать матрицу системы $A$ и вектор правой части $b$. Используя встроенную функцию  $lsolve$ пакета $MATHCAD$, найти решение системы $Ax=b$ с помощью метода Гаусса. \n",
    "2. Преобразовать систему $Ax=b$ к виду $x=Bx+c$, удобному для итераций. Проверить выполнение достаточного условия сходимости итерационных методов $||B||_{\\infty}<1$.\n",
    "3. Используя функцию $zeid$  (см. ПРИЛОЖЕНИЕ 5.B), выполнить 10  итераций по методу Зейделя; взять любое начальное приближение. Принимая решение, полученное в п. 1 за точное, найти величину абсолютной погрешности итерационного решения (использовать норму $||\\cdot ||_\\infty$). \n",
    "4. Взять другое начальное приближение. Объяснить полученные результаты.\n",
    "\n",
    "## Задача  5.2.  \n",
    "Для системы уравнений $Ax=b$ из задачи 5.1 найти  решение  по методу Зейделя с  точностью $\\epsilon=10^{-6}$ , взяв любое начальное приближение. Для этого  модифицировать функцию zeid  так, чтобы  решение вычислялось с заданной точностью $\\epsilon$. Предусмотреть подсчет  количества итераций, потребовавшихся для достижения точности $\\epsilon$. \n"
   ]
  },
  {
   "cell_type": "code",
   "execution_count": 1,
   "metadata": {},
   "outputs": [],
   "source": [
    "import numpy as np\n",
    "from numpy import sqrt\n",
    "from numpy.linalg import norm"
   ]
  },
  {
   "cell_type": "markdown",
   "metadata": {},
   "source": [
    "### Дано:"
   ]
  },
  {
   "cell_type": "code",
   "execution_count": 2,
   "metadata": {},
   "outputs": [],
   "source": [
    "epsilon = 10**(-6)\n",
    "\n",
    "A = np.array(\n",
    "    [[39.6,   0, 17.5,   9.9, 12], \n",
    "     [79.2, 120,    0,  39.6,  0],\n",
    "     [19.8, -21,   46,     0,  5],\n",
    "     [49.5,  19,   19,  89.1,  0],\n",
    "     [9.9 ,  25,   10, -39.6, 85]])\n",
    "\n",
    "b = np.array([-34.35, -530, 102.1, -286.5, 101.3]).reshape(-1,1)\n",
    "\n",
    "n = len(A)"
   ]
  },
  {
   "cell_type": "markdown",
   "metadata": {},
   "source": [
    "### Решение встроенным методом:"
   ]
  },
  {
   "cell_type": "code",
   "execution_count": 3,
   "metadata": {},
   "outputs": [
    {
     "name": "stdout",
     "output_type": "stream",
     "text": [
      "[[-1.19191919]\n",
      " [-2.9       ]\n",
      " [ 1.3       ]\n",
      " [-2.21212121]\n",
      " [ 1.        ]]\n"
     ]
    }
   ],
   "source": [
    "ExactX = np.linalg.solve(A,b)\n",
    "print(ExactX)"
   ]
  },
  {
   "cell_type": "markdown",
   "metadata": {},
   "source": [
    "### Определим метод Гауса"
   ]
  },
  {
   "cell_type": "code",
   "execution_count": 4,
   "metadata": {},
   "outputs": [],
   "source": [
    "def GaussMethod(matrix, right):\n",
    "    A = np.copy(matrix)\n",
    "    b = np.copy(right)\n",
    "    n = len(A)\n",
    "    \n",
    "    if (n != len(b)) and (A.shape[0] != A.shape[1]):\n",
    "        print(\"ERROR!!!!\")\n",
    "        return 0    \n",
    "    \n",
    "    #Forward\n",
    "    for i in range(n - 1):\n",
    "        for j in range(i + 1, n):\n",
    "            mu = A[j, i]/A[i, i]\n",
    "            A[j] -= A[i]*mu\n",
    "            b[j] -= b[i]*mu\n",
    "    \n",
    "    #Backward\n",
    "    for i in range(n - 1, 0, -1):\n",
    "        for j in range(i - 1, -1, -1):\n",
    "            mu = A[j, i]/A[i, i]\n",
    "            A[j] -= A[i]*mu\n",
    "            b[j] -= b[i]*mu\n",
    "\n",
    "    return np.array([b[i]/A[i, i] for i in range(n)])"
   ]
  },
  {
   "cell_type": "code",
   "execution_count": 5,
   "metadata": {},
   "outputs": [
    {
     "name": "stdout",
     "output_type": "stream",
     "text": [
      "[[-1.19191919]\n",
      " [-2.9       ]\n",
      " [ 1.3       ]\n",
      " [-2.21212121]\n",
      " [ 1.        ]]\n"
     ]
    }
   ],
   "source": [
    "GaussX = GaussMethod(A,b)\n",
    "print(GaussX)"
   ]
  },
  {
   "cell_type": "markdown",
   "metadata": {},
   "source": [
    "### Приведём систему к виду $x = Bx + c$. \n",
    "#### Построим матрицу $B$ и вектор $c$:\n"
   ]
  },
  {
   "cell_type": "code",
   "execution_count": 6,
   "metadata": {},
   "outputs": [],
   "source": [
    "def PB(A):\n",
    "    n = len(A)\n",
    "    B = np.array([[-A[i,j]/A[i,i] for i in range(n)] for j in range(n)])\n",
    "    B += np.eye(n);\n",
    "    return B\n",
    "\n",
    "def Pc(A, b):\n",
    "    n = len(A)\n",
    "    return np.array([b[i]/A[i,i] for i in range(n)])     "
   ]
  },
  {
   "cell_type": "code",
   "execution_count": 7,
   "metadata": {},
   "outputs": [
    {
     "name": "stdout",
     "output_type": "stream",
     "text": [
      "[[ 0.         -0.66       -0.43043478 -0.55555556 -0.11647059]\n",
      " [ 0.          0.          0.45652174 -0.21324355 -0.29411765]\n",
      " [-0.44191919  0.          0.         -0.21324355 -0.11764706]\n",
      " [-0.25       -0.33        0.          0.          0.46588235]\n",
      " [-0.3030303   0.         -0.10869565  0.          0.        ]]\n",
      "[[-0.86742424]\n",
      " [-4.41666667]\n",
      " [ 2.21956522]\n",
      " [-3.21548822]\n",
      " [ 1.19176471]]\n"
     ]
    }
   ],
   "source": [
    "B = PB(A)\n",
    "\n",
    "c = Pc(A, b)\n",
    "\n",
    "print(B)\n",
    "print(c)"
   ]
  },
  {
   "cell_type": "markdown",
   "metadata": {},
   "source": [
    "#### Проверим достаточные условие сходимости итерационых методов $||B||_{\\infty}<1$."
   ]
  },
  {
   "cell_type": "code",
   "execution_count": 8,
   "metadata": {},
   "outputs": [
    {
     "name": "stdout",
     "output_type": "stream",
     "text": [
      "||B|| = 1.7624609263995454\n"
     ]
    }
   ],
   "source": [
    "normB = norm(B, ord=np.inf) \n",
    "print(\"||B|| =\", normB )"
   ]
  },
  {
   "cell_type": "markdown",
   "metadata": {},
   "source": [
    "### Определим метод Зейделя:"
   ]
  },
  {
   "cell_type": "code",
   "execution_count": 9,
   "metadata": {},
   "outputs": [],
   "source": [
    "def SeidelMethod(B, c, x0, k=-1, eps=-1):\n",
    "    n = len(B)\n",
    "    y = np.copy(x0)\n",
    "    \n",
    "    U = np.triu(B)\n",
    "    L = np.tril(B)\n",
    "    \n",
    "    m = 0\n",
    "    stopCondition = True\n",
    "    while stopCondition:\n",
    "        m += 1\n",
    "        x = np.copy(y)\n",
    "            \n",
    "        u = np.sum(U[i] * x[i] for i in range(n)).reshape(-1, 1)\n",
    "        l = np.sum(L[i] * x[i] for i in range(n)).reshape(-1, 1)\n",
    "        \n",
    "        y = u + l + c\n",
    "        \n",
    "        if (k > 0):\n",
    "            stopCondition = m < k\n",
    "            \n",
    "        if (eps > 0):\n",
    "            stopCondition = np.linalg.norm(y - x, ord=2) >= eps\n",
    "        \n",
    "            \n",
    "    print(\"steps =\", m)\n",
    "    return y.reshape(-1,1)"
   ]
  },
  {
   "cell_type": "code",
   "execution_count": 10,
   "metadata": {},
   "outputs": [
    {
     "name": "stdout",
     "output_type": "stream",
     "text": [
      "steps = 10\n",
      "[[-1.18131115]\n",
      " [-2.8860127 ]\n",
      " [ 1.29602888]\n",
      " [-2.19730322]\n",
      " [ 1.001576  ]]\n"
     ]
    },
    {
     "data": {
      "text/plain": [
       "0.02336667829171065"
      ]
     },
     "execution_count": 10,
     "metadata": {},
     "output_type": "execute_result"
    }
   ],
   "source": [
    "Seidel10X = SeidelMethod(B, c, np.zeros(n), k=10)\n",
    "print(Seidel10X)\n",
    "np.linalg.norm(ExactX - Seidel10X, ord=2)"
   ]
  },
  {
   "cell_type": "code",
   "execution_count": 11,
   "metadata": {},
   "outputs": [
    {
     "name": "stdout",
     "output_type": "stream",
     "text": [
      "steps = 31\n",
      "[[-1.19191935]\n",
      " [-2.90000009]\n",
      " [ 1.29999988]\n",
      " [-2.21212134]\n",
      " [ 0.99999997]]\n"
     ]
    },
    {
     "data": {
      "text/plain": [
       "2.540042993856786e-07"
      ]
     },
     "execution_count": 11,
     "metadata": {},
     "output_type": "execute_result"
    }
   ],
   "source": [
    "SeidelX = SeidelMethod(B, c, np.zeros(n), eps=epsilon)\n",
    "print(SeidelX)\n",
    "np.linalg.norm(ExactX - SeidelX, ord=2)"
   ]
  },
  {
   "cell_type": "code",
   "execution_count": 12,
   "metadata": {},
   "outputs": [
    {
     "name": "stdout",
     "output_type": "stream",
     "text": [
      "steps = 31\n",
      "[[-1.19191929]\n",
      " [-2.89999986]\n",
      " [ 1.29999977]\n",
      " [-2.21212116]\n",
      " [ 0.99999995]]\n"
     ]
    },
    {
     "data": {
      "text/plain": [
       "2.9728933860802303e-07"
      ]
     },
     "execution_count": 12,
     "metadata": {},
     "output_type": "execute_result"
    }
   ],
   "source": [
    "SeidelX = SeidelMethod(B, c, np.zeros(n) + 1, eps=epsilon)\n",
    "print(SeidelX)\n",
    "np.linalg.norm(ExactX - SeidelX, ord=2)"
   ]
  },
  {
   "cell_type": "markdown",
   "metadata": {},
   "source": [
    "### Ответы совпали с указанной точностью. Ура!"
   ]
  },
  {
   "cell_type": "code",
   "execution_count": null,
   "metadata": {},
   "outputs": [],
   "source": []
  },
  {
   "cell_type": "code",
   "execution_count": null,
   "metadata": {},
   "outputs": [],
   "source": []
  }
 ],
 "metadata": {
  "kernelspec": {
   "display_name": "Python 3",
   "language": "python",
   "name": "python3"
  },
  "language_info": {
   "codemirror_mode": {
    "name": "ipython",
    "version": 3
   },
   "file_extension": ".py",
   "mimetype": "text/x-python",
   "name": "python",
   "nbconvert_exporter": "python",
   "pygments_lexer": "ipython3",
   "version": "3.6.4"
  }
 },
 "nbformat": 4,
 "nbformat_minor": 2
}
