{
 "cells": [
  {
   "cell_type": "markdown",
   "metadata": {},
   "source": [
    "# Лабораторная работа №6.\n",
    "## Малютин Александр БПМ152.\n",
    "### Вариант 20.\n"
   ]
  },
  {
   "cell_type": "markdown",
   "metadata": {},
   "source": [
    "### Задача 6.1. \n",
    "Функция $y=f(x)$ задана таблицей  значений $y_0, y_1,...y_n$ в точках $x_0,x_1,...x_n$. Используя метод наименьших квадратов (МНК), найти многочлен $P_{m}(x)=a_0+a_{1}x+...+a_{m}x^m$ наилучшего  среднеквадратичного  приближения оптимальной степени $m=m^*$. За оптимальное значение $m^*$ принять ту степень многочлена, начиная с которой величина  \n",
    "$$\n",
    "    \\sigma_{m} = \\sqrt{\\frac{1}{n-m}||(X(m),A(m)) - Y)||}\n",
    "$$\n",
    "стабилизируется или начинает возрастать. \n",
    "         \n",
    "ПОРЯДОК   РЕШЕНИЯ  ЗАДАЧИ:\n",
    "1. Задать векторы $x$ и $y$ исходных данных. \n",
    "2. Используя функцию $mnk$ (см. ПРИЛОЖЕНИЕ 6.В), найти многочлены $P_{m}, m=0,1,2,...,$ по методу наименьших квадратов. Вычислить соответствующие им значения $\\sigma_{m}$.\n",
    "3. Построить   гистограмму зависимости $\\sigma_{m}$ от $m$, на основании которой выбрать оптимальную степень $m^*$ многочлена наилучшего  среднеквадратичного  приближения.\n",
    "4. На одном чертеже построить графики многочленов $P_{m}, m=0,1,2,..., m^{*},$ и точечный график исходной функции. "
   ]
  },
  {
   "cell_type": "code",
   "execution_count": 1,
   "metadata": {},
   "outputs": [],
   "source": [
    "import numpy as np\n",
    "import matplotlib.pyplot as plt\n",
    "%matplotlib inline"
   ]
  },
  {
   "cell_type": "code",
   "execution_count": 2,
   "metadata": {},
   "outputs": [],
   "source": [
    "x = np.array([6, 6.4, 6.8, 7.2, 7.6, 8, 8.4, 8.8, 9.2, 9.6, 10])\n",
    "y = np.array([7.079, -1.509, -7.654, -12.211, -13.941, -15.117, -13.720, -10.702, -4.696, 3.501, 10.572])"
   ]
  },
  {
   "cell_type": "code",
   "execution_count": 27,
   "metadata": {},
   "outputs": [
    {
     "data": {
      "text/plain": [
       "array([ 254.844  ,  -61.80864, -353.92096, -633.01824, -805.23216,\n",
       "       -967.488  , -968.0832 , -828.76288, -397.46944,  322.65216,\n",
       "       1057.2    ])"
      ]
     },
     "execution_count": 27,
     "metadata": {},
     "output_type": "execute_result"
    }
   ],
   "source": [
    "y * x**2"
   ]
  },
  {
   "cell_type": "code",
   "execution_count": 28,
   "metadata": {},
   "outputs": [],
   "source": [
    "def OLS(x, y, n, m):\n",
    "    b = [sum(y*x**j) for j in range(m)]\n",
    "    G = [[sum(x[i]**(j+k) for i in range(n)) for k in range(m)]  for j in range(m)]\n",
    "    \n",
    "    return np.linalg.solve(G, b)"
   ]
  },
  {
   "cell_type": "code",
   "execution_count": 30,
   "metadata": {},
   "outputs": [
    {
     "data": {
      "text/plain": [
       "array([-1654.92222472,   720.97576699,  -102.7789773 ,     4.77645748])"
      ]
     },
     "execution_count": 30,
     "metadata": {},
     "output_type": "execute_result"
    }
   ],
   "source": [
    "OLS(x, y, n, 4)"
   ]
  },
  {
   "cell_type": "code",
   "execution_count": null,
   "metadata": {},
   "outputs": [],
   "source": []
  },
  {
   "cell_type": "code",
   "execution_count": null,
   "metadata": {},
   "outputs": [],
   "source": []
  },
  {
   "cell_type": "markdown",
   "metadata": {},
   "source": [
    "Пусть $ X_{i}(m) = (x^0,x^1,...x^m)$, а $A(m) = (a_{0},a_{1},...,a_{m})$\n",
    "\n",
    "Так же пусть $X(m)$ - матрица, в каждой строке которой  $X_{i}(m)$, а $Y$ - вектор-столбец состоящий из $y$\n",
    "\n",
    "Тогда $\\sigma$ может быть записана как:\n",
    "$$\n",
    "    \\sigma_{m} = \\sqrt{\\frac{1}{n-m}||(X(m),A(m)) - Y)||}\n",
    "$$\n",
    "\n",
    "Оптимизируя \n",
    "$$\n",
    "    ||(X(m),A(m)) - Y)|| \\rightarrow \\min_{A(m)}\n",
    "$$\n",
    "Получаем, что\n",
    "$$\n",
    "A(m) = (X(m)^T X(m))^{-1} X(m)^T Y\n",
    "$$"
   ]
  },
  {
   "cell_type": "code",
   "execution_count": null,
   "metadata": {},
   "outputs": [],
   "source": []
  },
  {
   "cell_type": "code",
   "execution_count": null,
   "metadata": {},
   "outputs": [],
   "source": []
  },
  {
   "cell_type": "code",
   "execution_count": null,
   "metadata": {},
   "outputs": [],
   "source": []
  },
  {
   "cell_type": "code",
   "execution_count": null,
   "metadata": {},
   "outputs": [],
   "source": []
  },
  {
   "cell_type": "code",
   "execution_count": null,
   "metadata": {},
   "outputs": [],
   "source": []
  },
  {
   "cell_type": "markdown",
   "metadata": {},
   "source": [
    "### Задача 6.2. \n",
    "В  таблице приведены  результаты наблюдений за перемещением  x материальной точки  по оси  Ох  в моменты   времени  t  [ ,T].  Известно, что движение  является равномерным и описывается линейной зависимостью x(t)=vt+b.  Используя  метод наименьших квадратов,   определить скорость v  и  спрогнозировать положение точки в момент времени  t=2T. На одном чертеже  построить график движения точки  и точечный график исходных наблюдений."
   ]
  },
  {
   "cell_type": "code",
   "execution_count": null,
   "metadata": {},
   "outputs": [],
   "source": []
  },
  {
   "cell_type": "code",
   "execution_count": null,
   "metadata": {},
   "outputs": [],
   "source": []
  },
  {
   "cell_type": "code",
   "execution_count": null,
   "metadata": {},
   "outputs": [],
   "source": []
  },
  {
   "cell_type": "markdown",
   "metadata": {},
   "source": [
    "### Задача 6.3. \n",
    "Зависимость между величинами x и  y описывается функцией   y=f(x, a, b), где a и  b – неизвестные параметры. Найти  эти параметры, сведя исходную задачу к линейной задаче метода наименьших квадратов. \n",
    "УКАЗАНИЕ. Свести исходную задачу к  линейной задаче МНК  можно, сделав подходящую замену переменных. Например, если исходная зависимость имеет вид   , то  прологарифмировав исходное равенство и введя новые переменные  и  , получаем задачу об определении коэффициентов линейной зависимости s= a+b t.\n"
   ]
  },
  {
   "cell_type": "code",
   "execution_count": null,
   "metadata": {},
   "outputs": [],
   "source": []
  }
 ],
 "metadata": {
  "kernelspec": {
   "display_name": "Python 3",
   "language": "python",
   "name": "python3"
  },
  "language_info": {
   "codemirror_mode": {
    "name": "ipython",
    "version": 3
   },
   "file_extension": ".py",
   "mimetype": "text/x-python",
   "name": "python",
   "nbconvert_exporter": "python",
   "pygments_lexer": "ipython3",
   "version": "3.6.4"
  }
 },
 "nbformat": 4,
 "nbformat_minor": 2
}
