{
 "cells": [
  {
   "cell_type": "markdown",
   "metadata": {},
   "source": [
    "# Лабораторная работа №4.\n",
    "## Малютин Александр БПМ152.\n",
    "### Вариант 20."
   ]
  },
  {
   "cell_type": "code",
   "execution_count": 1,
   "metadata": {},
   "outputs": [],
   "source": [
    "from sympy.solvers import solve\n",
    "from sympy import Symbol, diff, sqrt, cos, sin\n",
    "from scipy.misc import derivative\n",
    "from numpy.linalg import det\n",
    "\n",
    "import matplotlib.pyplot as plt\n",
    "%matplotlib inline\n",
    "import numpy as np"
   ]
  },
  {
   "cell_type": "markdown",
   "metadata": {},
   "source": [
    "# Задача 4.1. \n",
    "Найти с точностью $\\epsilon=10^{-6}$ все корни системы нелинейных уравнений:\n",
    "\n",
    "$f_1(x_1,x_2)=0, \\\\\n",
    "f_1(x_1,x_2)=0,$\n",
    "\n",
    "используя метод Ньютона для системы нелинейных уравнений. Найти корни с помощью встроенного блока решения уравнений Given  Find  пакета MATHCAD.\n",
    "\n",
    "### ПОРЯДОК РЕШЕНИЯ ЗАДАЧИ:\n",
    "1. Используя пакет MATHCAD, локализовать корни системы уравнений графически (см. ПРИЛОЖЕНИЕ 4.В).  \n",
    "2. Составить программу-функцию, вычисляющую корень системы двух нелинейных уравнений по методу Ньютона с точностью $\\epsilon$. Предусмотреть подсчет количества итераций. Для решения соответствующей системы  линейных алгебраических уравнений использовать встроенную функцию lsolve пакета MATHCAD.\n",
    "3. Используя составленную программу, вычислить все корни заданной системы с точностью $\\epsilon$.\n",
    "4. Используя встроенный блок Given  Find  пакета MATHCAD, найти все корни системы с точностью $\\epsilon$ (см. ПРИЛОЖЕНИЕ 4.В). Сравнить с результатами, полученнными в п. 3.\n",
    "\n",
    "УКАЗАНИЕ. В п. 1 привеcти уравнения системы к виду $x_2=g_i(x_1)$ (либо $x_1=g_i(x_2)$), $i=1,2$, можно с помощью пункта меню Symbolic пакета MATHCAD следующим образом:\n",
    " 1) набрать уравнение (знак равенства набирается с помощью комбинации клавиш [CTRL] и [=]);\n",
    " 2) выделить переменную, относительно которой нужно разрешить уравнение, щелкнув на ней мышью;\n",
    " 3) использовать Symbolic | Solve for Variable.\n"
   ]
  },
  {
   "cell_type": "markdown",
   "metadata": {},
   "source": [
    "\\begin{array}{lll}\n",
    "sin(x_1+x_2)-1.5x_1-0.1=0 \\\\  \n",
    "3x_1^2+x_2^2-1=0\n",
    "\\end{array}"
   ]
  },
  {
   "cell_type": "markdown",
   "metadata": {},
   "source": [
    "### Определим функции $f_1(x,y)$ и $f_2(x,y)$ и найдём их частные производные, и составим матрицу Якоби:"
   ]
  },
  {
   "cell_type": "code",
   "execution_count": 2,
   "metadata": {},
   "outputs": [],
   "source": [
    "epsilon = 1.e-6\n",
    "\n",
    "class f1:\n",
    "    def value(x):\n",
    "        return np.sin(x[0]+x[1])-1.5*x[0]-0.1\n",
    "    def dx(x):\n",
    "        return np.cos(x[0]+x[1])-1.5\n",
    "    def dy(x):\n",
    "        return np.cos(x[0]+x[1])\n",
    "\n",
    "class f2:\n",
    "    def value(x):\n",
    "        return 3*(x[0]*x[0])+(x[1]*x[1])-1\n",
    "    def dx(x):\n",
    "        return 6*x[0]\n",
    "    def dy(x):\n",
    "        return 2*x[1]\n",
    "    \n",
    "class Jacobian:\n",
    "    def mat(f, g, x):\n",
    "        return [[f.dx(x), f.dy(x)],\n",
    "                [g.dx(x), g.dy(x)]]\n",
    "    def det(f, g, x):\n",
    "        return np.linalg.det([[f.dx(x), f.dy(x)],\n",
    "                              [g.dx(x), g.dy(x)]])\n",
    "    def inv_mat(f, g, x):\n",
    "        return np.linalg.inv(\n",
    "            np.array([[f.dx(x), f.dy(x)],\n",
    "                      [g.dx(x), g.dy(x)]]))\n",
    "\n",
    "def Mat2x2Det(a11, a12, a21, a22):\n",
    "    return np.linalg.det([[a11, a12],\n",
    "                          [a21, a22]])"
   ]
  },
  {
   "cell_type": "markdown",
   "metadata": {},
   "source": [
    "### Нарисуем графики наших функций."
   ]
  },
  {
   "cell_type": "code",
   "execution_count": 3,
   "metadata": {},
   "outputs": [
    {
     "data": {
      "image/png": "[encoded data removed]",
      "text/plain": [
       "<matplotlib.figure.Figure at 0xba275b0>"
      ]
     },
     "metadata": {},
     "output_type": "display_data"
    }
   ],
   "source": [
    "delta = 0.025\n",
    "xrange = np.arange(-1.5, 1.5, delta)\n",
    "yrange = np.arange(-1.5, 1.5, delta)\n",
    "\n",
    "grid = np.meshgrid(xrange, yrange)\n",
    "F1 = f1.value(grid) \n",
    "F2 = f2.value(grid)\n",
    "\n",
    "plt.contour(grid[0], grid[1], F1, [0])\n",
    "plt.contour(grid[0], grid[1], F2, [0])\n",
    "\n",
    "#point = NewtoonMethod(f1, f2, [0,-0.5])[0]\n",
    "#plt.scatter(point[0], point[1])\n",
    "\n",
    "plt.grid(True)\n",
    "plt.axis('scaled')\n",
    "\n",
    "plt.show()"
   ]
  },
  {
   "cell_type": "markdown",
   "metadata": {},
   "source": [
    "#### Похоже что область локализации $[0;1]\\times[-0.5;1]$"
   ]
  },
  {
   "cell_type": "markdown",
   "metadata": {},
   "source": [
    "### Определим метод Ньютона:"
   ]
  },
  {
   "cell_type": "code",
   "execution_count": 4,
   "metadata": {},
   "outputs": [],
   "source": [
    "# TODO\n",
    "def NewtoonMethod(f1, f2, x, epsilon=1.e-6):\n",
    "    n = 1\n",
    "    xn = np.copy(x)\n",
    "    xprev = np.copy(xn)\n",
    "\n",
    "    F =  np.array([f1.value(xprev), f2.value(xprev)])\n",
    "        \n",
    "    xn = xprev - Jacobian.inv_mat(f1, f2, xprev).dot(F)\n",
    "\n",
    "    while np.linalg.norm(xn - xprev, ord=np.inf) > epsilon:\n",
    "        xprev = np.copy(xn)\n",
    "        \n",
    "        F = np.array([f1.value(xprev), f2.value(xprev)])\n",
    "        \n",
    "        xn = xprev - Jacobian.inv_mat(f1, f2, xprev).dot(F)\n",
    "        \n",
    "        n += 1\n",
    "        \n",
    "    return xn, n"
   ]
  },
  {
   "cell_type": "markdown",
   "metadata": {},
   "source": [
    "### Посчитаем корни:"
   ]
  },
  {
   "cell_type": "code",
   "execution_count": 5,
   "metadata": {},
   "outputs": [
    {
     "data": {
      "text/plain": [
       "(array([0.49666048, 0.50988734]), 7)"
      ]
     },
     "execution_count": 5,
     "metadata": {},
     "output_type": "execute_result"
    }
   ],
   "source": [
    "root = NewtoonMethod(f1, f2, [0, 1.1])\n",
    "p0 = root[0]\n",
    "root"
   ]
  },
  {
   "cell_type": "code",
   "execution_count": 6,
   "metadata": {},
   "outputs": [
    {
     "data": {
      "text/plain": [
       "(array([-0.55616673, -0.26839467]), 8)"
      ]
     },
     "execution_count": 6,
     "metadata": {},
     "output_type": "execute_result"
    }
   ],
   "source": [
    "root = NewtoonMethod(f1, f2, [0, -1.1])\n",
    "p1 = root[0]\n",
    "root"
   ]
  },
  {
   "cell_type": "code",
   "execution_count": 7,
   "metadata": {
    "scrolled": true
   },
   "outputs": [
    {
     "data": {
      "image/png": "[encoded data removed]",
      "text/plain": [
       "<matplotlib.figure.Figure at 0xbd05890>"
      ]
     },
     "metadata": {},
     "output_type": "display_data"
    }
   ],
   "source": [
    "delta = 0.025\n",
    "xrange = np.arange(-1.5, 1.5, delta)\n",
    "yrange = np.arange(-1.5, 1.5, delta)\n",
    "\n",
    "grid = np.meshgrid(xrange, yrange)\n",
    "F1 = f1.value(grid) \n",
    "F2 = f2.value(grid)\n",
    "\n",
    "plt.contour(grid[0], grid[1], F1, [0])\n",
    "plt.contour(grid[0], grid[1], F2, [0])\n",
    "\n",
    "plt.scatter(p0[0], p0[1])\n",
    "plt.scatter(p1[0], p1[1])\n",
    "\n",
    "plt.grid(True)\n",
    "plt.axis('scaled')\n",
    "\n",
    "plt.show()"
   ]
  },
  {
   "cell_type": "markdown",
   "metadata": {},
   "source": [
    "## Урааа!! Точки найдены, по графику можно сказать, что ответ на 99% верный"
   ]
  }
 ],
 "metadata": {
  "kernelspec": {
   "display_name": "Python 3",
   "language": "python",
   "name": "python3"
  },
  "language_info": {
   "codemirror_mode": {
    "name": "ipython",
    "version": 3
   },
   "file_extension": ".py",
   "mimetype": "text/x-python",
   "name": "python",
   "nbconvert_exporter": "python",
   "pygments_lexer": "ipython3",
   "version": "3.6.4"
  }
 },
 "nbformat": 4,
 "nbformat_minor": 2
}
